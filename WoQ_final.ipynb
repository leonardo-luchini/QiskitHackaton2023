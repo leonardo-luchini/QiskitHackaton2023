{
 "cells": [
  {
   "attachments": {},
   "cell_type": "markdown",
   "metadata": {},
   "source": [
    "\n",
    "# Creating entangled states with optimized circuits for particular backend\n"
   ]
  },
  {
   "attachments": {},
   "cell_type": "markdown",
   "metadata": {},
   "source": [
    "## Introduction"
   ]
  },
  {
   "attachments": {},
   "cell_type": "markdown",
   "metadata": {},
   "source": [
    "Explanation"
   ]
  },
  {
   "attachments": {},
   "cell_type": "markdown",
   "metadata": {},
   "source": [
    "## Idea"
   ]
  },
  {
   "attachments": {},
   "cell_type": "markdown",
   "metadata": {},
   "source": [
    "..."
   ]
  },
  {
   "attachments": {},
   "cell_type": "markdown",
   "metadata": {},
   "source": [
    "## Solution"
   ]
  },
  {
   "cell_type": "code",
   "execution_count": 40,
   "metadata": {},
   "outputs": [],
   "source": [
    "## Importing the necesary libraries"
   ]
  },
  {
   "cell_type": "code",
   "execution_count": 41,
   "metadata": {},
   "outputs": [],
   "source": [
    "from qiskit import QuantumCircuit\n",
    "from qiskit.providers.fake_provider import FakePrague, FakeSherbrooke, FakeAuckland , FakeQuitoV2\n",
    "from qiskit import transpile\n",
    "from qiskit.tools.visualization import plot_histogram\n",
    "from qiskit.quantum_info import entropy, Statevector\n",
    "from rustworkx.visualization import graphviz_draw\n",
    "import rustworkx as rw\n",
    "from rustworkx import minimum_spanning_edges, PyGraph, dijkstra_shortest_path_lengths\n",
    "import matplotlib.pyplot as plt\n",
    "import math\n",
    "from random import randrange\n",
    "from IPython import get_ipython"
   ]
  },
  {
   "attachments": {},
   "cell_type": "markdown",
   "metadata": {},
   "source": [
    "## Naive Approach"
   ]
  },
  {
   "attachments": {},
   "cell_type": "markdown",
   "metadata": {},
   "source": [
    "We will take the backend with a semnificative number of qubits, in order to have a statistically significant result."
   ]
  },
  {
   "cell_type": "code",
   "execution_count": 42,
   "metadata": {},
   "outputs": [
    {
     "name": "stdout",
     "output_type": "stream",
     "text": [
      "128\n"
     ]
    }
   ],
   "source": [
    "my_variables = set(dir())\n",
    "\n",
    "\n",
    "# Get a fake backend from the fake provider\n",
    "prague = FakePrague()\n",
    "sherbrooke = FakeSherbrooke()\n",
    "auckland = FakeAuckland()\n",
    "quitov2 = FakeQuitoV2()\n",
    "\n",
    "\n",
    "# Create a simple circuit\n",
    "num_qubits_sherbrooke = sherbrooke.num_qubits\n",
    "circuit = QuantumCircuit(num_qubits_sherbrooke)\n",
    "circuit.h(0)\n",
    "for i in range(num_qubits_sherbrooke-1):\n",
    "    circuit.cx(i,i+1)\n",
    "\n",
    "# this circuit is way too large to be shown in a figure\n",
    "circuit.measure_all()\n",
    "# circuit.draw()\n",
    "\n",
    "\n",
    "naive_depth_sherbrooke = circuit.depth()\n",
    "print(naive_depth_sherbrooke)\n",
    "\n",
    "\n"
   ]
  },
  {
   "attachments": {},
   "cell_type": "markdown",
   "metadata": {},
   "source": [
    "# Solution"
   ]
  },
  {
   "cell_type": "code",
   "execution_count": 43,
   "metadata": {},
   "outputs": [
    {
     "name": "stdout",
     "output_type": "stream",
     "text": [
      "Start qubit:  97\n",
      "The circuit depth:  33\n"
     ]
    }
   ],
   "source": [
    "def get_optimized_state_random(backend):\n",
    "    findme = 'num_qubits'\n",
    "    if findme in dir(backend):\n",
    "        num_qubits = backend.num_qubits\n",
    "        connections = backend.coupling_map\n",
    "    else:\n",
    "        num_qubits = backend.configuration().n_qubits\n",
    "        connections = backend.configuration().coupling_map\n",
    "    \n",
    "    # Transpile the ideal circuit to a circuit that can be directly executed by the backend\n",
    "    qc = QuantumCircuit(num_qubits)\n",
    "    transpiled_circuit = transpile(qc, backend)\n",
    "    transpiled_circuit.draw('mpl')\n",
    "\n",
    "    # Run the transpiled circuit using the simulated fake backend\n",
    "    job = backend.run(transpiled_circuit)\n",
    "    # counts = job.result().get_counts()\n",
    "    # plot_histogram(counts)\n",
    "\n",
    "    targeted = {}\n",
    "    for i in range(num_qubits):\n",
    "        targeted.update({i: 'n'})\n",
    "    start = randrange(num_qubits)\n",
    "    print(\"Start qubit: \", start)\n",
    "\n",
    "    qc.h(start)\n",
    "    # print(qc.draw())\n",
    "    # mark this qubit as 'targeted'\n",
    "    targeted[start] = 't'\n",
    "\n",
    "    list_ctrl = []\n",
    "    list_ctrl.append(start)\n",
    "    # print(\"Initial list of control qubits: \", list_ctrl)\n",
    "    # print(\"First element of the list: \", list_ctrl[0])\n",
    "\n",
    "    def non_entangled_exist(target_dict):\n",
    "        ret = False\n",
    "        for i in range(len(target_dict)):\n",
    "            if target_dict[i] == 'n':\n",
    "                ret = True\n",
    "\n",
    "        return ret\n",
    "\n",
    "    iteration = 0\n",
    "    while non_entangled_exist(targeted):\n",
    "        iteration += 1\n",
    "        # helper list_ctrl to be used for swap at the end of the loop\n",
    "        swp_list_ctrl = []\n",
    "        # for each node in list_ctrl find connected nodes which haven't been entangled (targeted)\n",
    "        for i in list_ctrl:\n",
    "            # find connected nodes in connections not targeted\n",
    "            for j in connections:\n",
    "                # apply cx on it\n",
    "                # mark it as targeted\n",
    "                # add it to swp_list_ctrl\n",
    "                if j[0] == i:\n",
    "                    if targeted[j[1]] == 'n':\n",
    "                        qc.cx(i, j[1])\n",
    "                        targeted[j[1]] = 't'\n",
    "                        swp_list_ctrl.append(j[1])\n",
    "                if j[1] == i:\n",
    "                    if targeted[j[0]] == 'n':\n",
    "                        qc.cx(i, j[0])\n",
    "                        targeted[j[0]] = 't'\n",
    "                        swp_list_ctrl.append(j[0])\n",
    "        # clear list_ctrl\n",
    "        list_ctrl = []\n",
    "        # replace list_ctrl with swp_list_ctrl\n",
    "        for i in swp_list_ctrl:\n",
    "            list_ctrl.append(i)\n",
    "        qc.barrier()\n",
    "\n",
    "\n",
    "    return [qc.depth(), num_qubits]\n",
    "\n",
    "# Testing the solution on the Sherbrooke backend with a random initial state\n",
    "\n",
    "print(\"The circuit depth: \", get_optimized_state_random(sherbrooke)[0])"
   ]
  },
  {
   "attachments": {},
   "cell_type": "markdown",
   "metadata": {},
   "source": [
    "## Selecting a the qubit corresponding to the root node in the spanning tree"
   ]
  },
  {
   "cell_type": "code",
   "execution_count": 44,
   "metadata": {},
   "outputs": [
    {
     "name": "stdout",
     "output_type": "stream",
     "text": [
      "Centroid: 64\n",
      "Start qubit:  111\n",
      "The circuit depth:  35\n"
     ]
    }
   ],
   "source": [
    "def get_optimized_state_root(backend):\n",
    "    findme = 'num_qubits'\n",
    "    if findme in dir(backend):\n",
    "        num_qubits = backend.num_qubits\n",
    "        connections = backend.coupling_map\n",
    "    else:\n",
    "        num_qubits = backend.configuration().n_qubits\n",
    "        connections = backend.configuration().coupling_map\n",
    "    \n",
    "    # Transpile the ideal circuit to a circuit that can be directly executed by the backend\n",
    "    qc = QuantumCircuit(num_qubits)\n",
    "    transpiled_circuit = transpile(qc, backend)\n",
    "    transpiled_circuit.draw('mpl')\n",
    "\n",
    "    # Run the transpiled circuit using the simulated fake backend\n",
    "    job = backend.run(transpiled_circuit)\n",
    "    \n",
    "    # counts = job.result().get_counts()\n",
    "    # plot_histogram(counts)\n",
    "\n",
    "\n",
    "\n",
    "    def edge_cost_fn(weight):\n",
    "        # return math.exp(weight)\n",
    "        return weight\n",
    "    \n",
    "    graph = rw.PyGraph()\n",
    "    edges = connections.get_edges()\n",
    "    weighted_edges = [(source, target, randrange(1,100)/1000) for source, target in edges]\n",
    "    graph.extend_from_weighted_edge_list(weighted_edges)\n",
    "    \n",
    "    # paths = rw.graph_all_pairs_dijkstra_shortest_paths(graph, edge_cost_fn)\n",
    "\n",
    "    min_max_length = float('inf')\n",
    "    centroid = None\n",
    "    for node in graph.node_indices():\n",
    "        lengths = dijkstra_shortest_path_lengths(graph, node, edge_cost_fn)\n",
    "        max_length = max(lengths.values())\n",
    "        if max_length < min_max_length:\n",
    "            min_max_length = max_length\n",
    "            centroid = node\n",
    "\n",
    "    print(f\"Centroid: {centroid}\")\n",
    "\n",
    "    targeted = {}\n",
    "    for i in range(num_qubits):\n",
    "        targeted.update({i: 'n'})\n",
    "    start = randrange(num_qubits)\n",
    "    print(\"Start qubit: \", start)\n",
    "\n",
    "    qc.h(start)\n",
    "    # print(qc.draw())\n",
    "    # mark this qubit as 'targeted'\n",
    "    targeted[start] = 't'\n",
    "\n",
    "    list_ctrl = []\n",
    "    list_ctrl.append(start)\n",
    "    # print(\"Initial list of control qubits: \", list_ctrl)\n",
    "    # print(\"First element of the list: \", list_ctrl[0])\n",
    "\n",
    "    def non_entangled_exist(target_dict):\n",
    "        ret = False\n",
    "        for i in range(len(target_dict)):\n",
    "            if target_dict[i] == 'n':\n",
    "                ret = True\n",
    "\n",
    "        return ret\n",
    "\n",
    "    iteration = 0\n",
    "    while non_entangled_exist(targeted):\n",
    "        iteration += 1\n",
    "        # helper list_ctrl to be used for swap at the end of the loop\n",
    "        swp_list_ctrl = []\n",
    "        # for each node in list_ctrl find connected nodes which haven't been entangled (targeted)\n",
    "        for i in list_ctrl:\n",
    "            # find connected nodes in connections not targeted\n",
    "            for j in connections:\n",
    "                # apply cx on it\n",
    "                # mark it as targeted\n",
    "                # add it to swp_list_ctrl\n",
    "                if j[0] == i:\n",
    "                    if targeted[j[1]] == 'n':\n",
    "                        qc.cx(i, j[1])\n",
    "                        targeted[j[1]] = 't'\n",
    "                        swp_list_ctrl.append(j[1])\n",
    "                if j[1] == i:\n",
    "                    if targeted[j[0]] == 'n':\n",
    "                        qc.cx(i, j[0])\n",
    "                        targeted[j[0]] = 't'\n",
    "                        swp_list_ctrl.append(j[0])\n",
    "        # clear list_ctrl\n",
    "        list_ctrl = []\n",
    "        # replace list_ctrl with swp_list_ctrl\n",
    "        for i in swp_list_ctrl:\n",
    "            list_ctrl.append(i)\n",
    "        qc.barrier()\n",
    "        \n",
    "\n",
    "    return [qc.depth(), num_qubits]\n",
    "\n",
    "\n",
    "    # graphviz_draw(graph,method='neato')\n",
    "    graphviz_draw(rw.minimum_spanning_tree(graph,weight_fn=edge_cost_fn),method = 'dot')\n",
    "\n",
    "# Testing the solution on the Sherbrooke fake backend with the starting qubit as the root of the spanning tree\n",
    "print(\"The circuit depth: \", get_optimized_state_root(sherbrooke)[0])\n"
   ]
  },
  {
   "attachments": {},
   "cell_type": "markdown",
   "metadata": {},
   "source": [
    "# Results"
   ]
  },
  {
   "cell_type": "code",
   "execution_count": 45,
   "metadata": {},
   "outputs": [
    {
     "name": "stdout",
     "output_type": "stream",
     "text": [
      "Centroid: 12\n",
      "Start qubit:  28\n",
      "Centroid: 1\n",
      "Start qubit:  0\n",
      "Centroid: 8\n",
      "Start qubit:  7\n",
      "Centroid: 60\n",
      "Start qubit:  114\n",
      "[0.33333333333333337, 0.0, 0.4444444444444444, 0.7007874015748031]\n"
     ]
    }
   ],
   "source": [
    "results = []\n",
    "\n",
    "backends = [ prague, quitov2, auckland, sherbrooke ]\n",
    "\n",
    "for backend in backends:\n",
    "    result = get_optimized_state_root(backend)\n",
    "    results.append(1-result[0]/result[1])\n",
    "\n",
    "print(results)\n"
   ]
  },
  {
   "cell_type": "code",
   "execution_count": null,
   "metadata": {},
   "outputs": [],
   "source": []
  }
 ],
 "metadata": {
  "kernelspec": {
   "display_name": "Python 3",
   "language": "python",
   "name": "python3"
  },
  "language_info": {
   "codemirror_mode": {
    "name": "ipython",
    "version": 3
   },
   "file_extension": ".py",
   "mimetype": "text/x-python",
   "name": "python",
   "nbconvert_exporter": "python",
   "pygments_lexer": "ipython3",
   "version": "3.11.4"
  },
  "orig_nbformat": 4
 },
 "nbformat": 4,
 "nbformat_minor": 2
}
