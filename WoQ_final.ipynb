{
 "cells": [
  {
   "attachments": {},
   "cell_type": "markdown",
   "metadata": {},
   "source": [
    "\n",
    "# Creating entangled states with optimized circuits for particular backend\n"
   ]
  },
  {
   "attachments": {},
   "cell_type": "markdown",
   "metadata": {},
   "source": [
    "## Introduction"
   ]
  },
  {
   "attachments": {},
   "cell_type": "markdown",
   "metadata": {},
   "source": [
    "Our goal is to entangle all the qubits available in a given backend. Entanglement in one of the most important properties of quantum systems in quite many quantum algorithms and protocols and, therefore, we find it a suited choise for our task.\n",
    "It also motivates us to learn more about the quantum hardware on which the actual state is created in order to optimize the circuit correlated with the physical architecture and to mitigate the noise contribution."
   ]
  },
  {
   "attachments": {},
   "cell_type": "markdown",
   "metadata": {},
   "source": [
    "## Idea"
   ]
  },
  {
   "attachments": {},
   "cell_type": "markdown",
   "metadata": {},
   "source": [
    "The first approach it was to create a GHZ state applying a hadamard gate on the first qubit and entangling afterwise the others one by one, resulting in a O(N) evolution regarding the number of qubits. Our solution is based on paralelization of the entanglement process taking into consideration the architecture of the given quantum chip and the quality of the interqubit connections. We defined the quantum circuit as a graph and optimized it to minimize the circuit depth."
   ]
  },
  {
   "attachments": {},
   "cell_type": "markdown",
   "metadata": {},
   "source": [
    "## Solution"
   ]
  },
  {
   "cell_type": "code",
   "execution_count": 6,
   "metadata": {},
   "outputs": [],
   "source": [
    "## Importing the necesary libraries\n",
    "from qiskit import QuantumCircuit\n",
    "from qiskit.providers.fake_provider import FakePrague, FakeSherbrooke, FakeAuckland , FakeQuitoV2\n",
    "from qiskit import transpile\n",
    "from qiskit.tools.visualization import plot_histogram\n",
    "from qiskit.quantum_info import entropy, Statevector\n",
    "from rustworkx.visualization import graphviz_draw\n",
    "import rustworkx as rw\n",
    "from rustworkx import minimum_spanning_edges, PyGraph, dijkstra_shortest_path_lengths\n",
    "import matplotlib.pyplot as plt\n",
    "import math\n",
    "from random import randrange"
   ]
  },
  {
   "attachments": {},
   "cell_type": "markdown",
   "metadata": {},
   "source": [
    "## Naive Approach"
   ]
  },
  {
   "attachments": {},
   "cell_type": "markdown",
   "metadata": {},
   "source": [
    "We will take the backend with a semnificative number of qubits, in order to have a statistically significant result."
   ]
  },
  {
   "cell_type": "code",
   "execution_count": 7,
   "metadata": {},
   "outputs": [
    {
     "name": "stdout",
     "output_type": "stream",
     "text": [
      "127\n"
     ]
    }
   ],
   "source": [
    "my_variables = set(dir())\n",
    "\n",
    "\n",
    "# Get fake backends from the fake providers\n",
    "prague = FakePrague()\n",
    "sherbrooke = FakeSherbrooke()\n",
    "auckland = FakeAuckland()\n",
    "quitov2 = FakeQuitoV2()\n",
    "\n",
    "\n",
    "# Create a simple GHZ circuit to entangle all the qubits in the system\n",
    "num_qubits_sherbrooke = sherbrooke.num_qubits\n",
    "circuit = QuantumCircuit(num_qubits_sherbrooke)\n",
    "circuit.h(0)\n",
    "for i in range(num_qubits_sherbrooke - 1):\n",
    "    circuit.cx(i, i+1)\n",
    "\n",
    "# this circuit is way too large to be shown in a figure\n",
    "\n",
    "naive_depth_sherbrooke = circuit.depth()\n",
    "print(naive_depth_sherbrooke)"
   ]
  },
  {
   "attachments": {},
   "cell_type": "markdown",
   "metadata": {},
   "source": [
    "# Solution"
   ]
  },
  {
   "cell_type": "code",
   "execution_count": 8,
   "metadata": {},
   "outputs": [
    {
     "name": "stdout",
     "output_type": "stream",
     "text": [
      "Start qubit:  117\n",
      "The circuit depth:  37\n"
     ]
    }
   ],
   "source": [
    "# Define the optimizing algorithm \n",
    "def get_optimized_state_random(backend):\n",
    "    # For V1 backends you should consult the documentation for the right attribute\n",
    "    num_qubits = backend.num_qubits\n",
    "    connections = backend.coupling_map\n",
    "    \n",
    "    # Transpile the ideal circuit to a circuit that can be directly executed by the backend\n",
    "    qc = QuantumCircuit(num_qubits)\n",
    "    transpiled_circuit = transpile(qc, backend)\n",
    "    transpiled_circuit.draw('mpl')\n",
    "\n",
    "    # We create a dictionary for every qubit in order to label them as targeted and controls\n",
    "    # In every round it is applied a controlled not gate from the control qubits to the targets and then \n",
    "    # recursevly every target node becomes a control node untill there are no more unentangled qubits\n",
    "    def non_entangled_exist(target_dict):\n",
    "        for i in range(len(target_dict)):\n",
    "            if target_dict[i] == 'n':\n",
    "                return True\n",
    "        return False\n",
    "\n",
    "    targeted = {}\n",
    "    for i in range(num_qubits):\n",
    "        targeted.update({i: 'n'})\n",
    "    start = randrange(num_qubits)\n",
    "    print(\"Start qubit: \", start)\n",
    "\n",
    "    qc.h(start)\n",
    "    # mark this qubit as 'targeted'\n",
    "    targeted[start] = 't'\n",
    "\n",
    "    list_ctrl = []\n",
    "    list_ctrl.append(start)\n",
    "\n",
    "    iteration = 0\n",
    "    while non_entangled_exist(targeted):\n",
    "        iteration += 1\n",
    "        # helper list_ctrl to be used for swap at the end of the loop\n",
    "        swp_list_ctrl = []\n",
    "        # for each node in list_ctrl find connected nodes which haven't been entangled (targeted)\n",
    "        for i in list_ctrl:\n",
    "            # find connected nodes in connections not targeted\n",
    "            for j in connections:\n",
    "                # apply cx on it\n",
    "                # mark it as targeted\n",
    "                # add it to swp_list_ctrl\n",
    "                # (configuration map contains redundant connections both ways between nodes, i.e. [i,j] == [j,i])\n",
    "                if j[0] == i:\n",
    "                    if targeted[j[1]] == 'n':\n",
    "                        qc.cx(i, j[1])\n",
    "                        targeted[j[1]] = 't'\n",
    "                        swp_list_ctrl.append(j[1])\n",
    "                if j[1] == i:\n",
    "                    if targeted[j[0]] == 'n':\n",
    "                        qc.cx(i, j[0])\n",
    "                        targeted[j[0]] = 't'\n",
    "                        swp_list_ctrl.append(j[0])\n",
    "        # clear list_ctrl\n",
    "        list_ctrl = []\n",
    "        # replace list_ctrl with swp_list_ctrl\n",
    "        for i in swp_list_ctrl:\n",
    "            list_ctrl.append(i)\n",
    "        qc.barrier()\n",
    "\n",
    "\n",
    "    return [qc.depth(), num_qubits]\n",
    "\n",
    "# Testing the solution on the Sherbrooke backend with a random initial state\n",
    "\n",
    "print(\"The circuit depth: \", get_optimized_state_random(sherbrooke)[0])"
   ]
  },
  {
   "attachments": {},
   "cell_type": "markdown",
   "metadata": {},
   "source": [
    "## Selecting a the qubit corresponding to the root node in the spanning tree"
   ]
  },
  {
   "cell_type": "code",
   "execution_count": 9,
   "metadata": {},
   "outputs": [
    {
     "name": "stdout",
     "output_type": "stream",
     "text": [
      "Start qubit:  63\n",
      "The circuit depth:  22\n"
     ]
    }
   ],
   "source": [
    "def get_optimized_state_root(backend):\n",
    "    # For V1 backends you should consult the documentation for the right attribute\n",
    "    num_qubits = backend.num_qubits\n",
    "    connections = backend.coupling_map\n",
    "    \n",
    "    # Transpile the ideal circuit to a circuit that can be directly executed by the backend\n",
    "    qc = QuantumCircuit(num_qubits)\n",
    "    transpiled_circuit = transpile(qc, backend)\n",
    "    transpiled_circuit.draw('mpl')\n",
    "\n",
    "    # Defining the metrics for the connections between the qubits\n",
    "    def edge_cost_fn(weight):\n",
    "        return math.exp(weight)\n",
    "        # return weight\n",
    "    \n",
    "    # We create a graph to map the qubits physical architecture mimicing the calibration with the weights of the edges\n",
    "    graph = rw.PyGraph()\n",
    "    edges = connections.get_edges()\n",
    "    weighted_edges = [(source, target, randrange(1,100)/1000) for source, target in edges]\n",
    "    graph.extend_from_weighted_edge_list(weighted_edges)\n",
    "    \n",
    "    # We find equivalent tree reprezentation and choose the root node in such a way that it has the minimum distance to\n",
    "    # the furthest leave \n",
    "    min_max_length = float('inf')\n",
    "    centroid = None\n",
    "    for node in graph.node_indices():\n",
    "        lengths = dijkstra_shortest_path_lengths(graph, node, edge_cost_fn)\n",
    "        max_length = max(lengths.values())\n",
    "        if max_length < min_max_length:\n",
    "            min_max_length = max_length\n",
    "            centroid = node\n",
    "\n",
    "    # We create a dictionary for every qubit in order to label them as targeted and controls\n",
    "    # In every round it is applied a controlled not gate from the control qubits to the targets and then \n",
    "    # recursevly every target node becomes a control node untill there are no more unentangled qubits\n",
    "    def non_entangled_exist(target_dict):\n",
    "        for i in range(len(target_dict)):\n",
    "            if target_dict[i] == 'n':\n",
    "                return True\n",
    "        return False\n",
    "   \n",
    "    targeted = {}\n",
    "    for i in range(num_qubits):\n",
    "        targeted.update({i: 'n'})\n",
    "    start = centroid\n",
    "    print(\"Start qubit: \", start)\n",
    "\n",
    "    qc.h(start)\n",
    "    # print(qc.draw())\n",
    "    # mark this qubit as 'targeted'\n",
    "    targeted[start] = 't'\n",
    "\n",
    "    list_ctrl = []\n",
    "    list_ctrl.append(start)\n",
    "\n",
    "    iteration = 0\n",
    "    while non_entangled_exist(targeted):\n",
    "        iteration += 1\n",
    "        # helper list_ctrl to be used for swap at the end of the loop\n",
    "        swp_list_ctrl = []\n",
    "        # for each node in list_ctrl find connected nodes which haven't been entangled (targeted)\n",
    "        for i in list_ctrl:\n",
    "            # find connected nodes in connections not targeted\n",
    "            for j in connections:\n",
    "                # apply cx on it\n",
    "                # mark it as targeted\n",
    "                # add it to swp_list_ctrl\n",
    "                if j[0] == i:\n",
    "                    if targeted[j[1]] == 'n':\n",
    "                        qc.cx(i, j[1])\n",
    "                        targeted[j[1]] = 't'\n",
    "                        swp_list_ctrl.append(j[1])\n",
    "                if j[1] == i:\n",
    "                    if targeted[j[0]] == 'n':\n",
    "                        qc.cx(i, j[0])\n",
    "                        targeted[j[0]] = 't'\n",
    "                        swp_list_ctrl.append(j[0])\n",
    "        # clear list_ctrl\n",
    "        list_ctrl = []\n",
    "        # replace list_ctrl with swp_list_ctrl\n",
    "        for i in swp_list_ctrl:\n",
    "            list_ctrl.append(i)\n",
    "        qc.barrier()  \n",
    "\n",
    "    return [qc.depth(), num_qubits]\n",
    "\n",
    "# Testing the solution on the Sherbrooke fake backend with the starting qubit as the root of the spanning tree\n",
    "print(\"The circuit depth: \", get_optimized_state_root(sherbrooke)[0])"
   ]
  },
  {
   "attachments": {},
   "cell_type": "markdown",
   "metadata": {},
   "source": [
    "# Results"
   ]
  },
  {
   "cell_type": "code",
   "execution_count": 16,
   "metadata": {},
   "outputs": [
    {
     "name": "stdout",
     "output_type": "stream",
     "text": [
      "Start qubit:  13\n",
      "Depth reduction (percents): prague --> 0.606\n",
      "Start qubit:  1\n",
      "Depth reduction (percents): quitov2 --> 0.0\n",
      "Start qubit:  13\n",
      "Depth reduction (percents): auckland --> 0.593\n",
      "Start qubit:  64\n",
      "Depth reduction (percents): sherbrooke --> 0.819\n"
     ]
    }
   ],
   "source": [
    "# Comparing the results on different face backend\n",
    "backends = [ prague, quitov2, auckland, sherbrooke ]\n",
    "bks = [ 'prague', 'quitov2', 'auckland', 'sherbrooke' ]\n",
    "for backend, bk in zip(backends, bks):\n",
    "    result = get_optimized_state_root(backend)\n",
    "    percentage = (1-result[0]/result[1])\n",
    "    print(f'Depth reduction (percents): {bk} --> {percentage:.3}')\n"
   ]
  },
  {
   "cell_type": "code",
   "execution_count": null,
   "metadata": {},
   "outputs": [],
   "source": []
  }
 ],
 "metadata": {
  "kernelspec": {
   "display_name": "Python 3",
   "language": "python",
   "name": "python3"
  },
  "language_info": {
   "codemirror_mode": {
    "name": "ipython",
    "version": 3
   },
   "file_extension": ".py",
   "mimetype": "text/x-python",
   "name": "python",
   "nbconvert_exporter": "python",
   "pygments_lexer": "ipython3",
   "version": "3.11.4"
  },
  "orig_nbformat": 4
 },
 "nbformat": 4,
 "nbformat_minor": 2
}
